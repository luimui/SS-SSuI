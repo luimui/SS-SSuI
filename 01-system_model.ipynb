{
  "cells": [
    {
      "cell_type": "markdown",
      "metadata": {
        "id": "MTkpK9rmlb_1"
      },
      "source": [
        "# Übung 1 (Balistikbeispiel)\n",
        "\n",
        "Die Übungsaufgaben werden als Jupyter Notebooks bereitgestellt. Ein solches Notebook besteht aus Zellen, in die Sie direkt R-Code schreiben können. Durch Klicken auf \"Run\" oben oder Strg+Enter wird die Zelle direkt ausgeführt und das Ergebnis wird angezeigt. Probieren Sie es in der folgenden Zelle direkt einmal aus."
      ]
    },
    {
      "cell_type": "code",
      "execution_count": null,
      "metadata": {
        "id": "DtGacHD_lb_3",
        "outputId": "8e5b65f4-f138-49ad-e621-c363c3e97c56",
        "colab": {
          "base_uri": "https://localhost:8080/",
          "height": 124
        }
      },
      "outputs": [
        {
          "output_type": "error",
          "ename": "ERROR",
          "evalue": "Error in parse(text = x, srcfile = src): <text>:2:4: unexpected ','\n1: 3 + 4\n2: b_x,\n      ^\n",
          "traceback": [
            "Error in parse(text = x, srcfile = src): <text>:2:4: unexpected ','\n1: 3 + 4\n2: b_x,\n      ^\nTraceback:\n"
          ]
        }
      ],
      "source": [
        "3 + 4\n",
        "b_x, b_y = 10"
      ]
    },
    {
      "cell_type": "markdown",
      "metadata": {
        "id": "Y7SLlK7jlb_4"
      },
      "source": [
        "In der Vorlesung wird Bayessches Filtern anhand eines Ballistikbeispiels eingeführt.\n",
        "\n",
        "In dieser Übung soll das Systemmodell des Ballistik-Beispiels (Kapitel 4.1 im Skript) implementiert werden. Dies werden wir später  als Grundlage verwenden, um einen Partikelfilter für dieses Beispiel zu implementieren.\n",
        "\n",
        "Im Ballistik-Beispiel setzt sich der Zustand zu einem bestimmten Zeitpunkt aus der X- und Y-Position sowie der komponentenweisen Geschwindigkeit in X- und Y-Richtung zusammen. Zudem sind einige physikalische Konstanten gegeben. Für einen Gesamtüberblick schauen sie sich bitte Folie 4 und 5 aus dem Skript \"SSuI-BIDSSS-1-Intro.pdf\" an!\n",
        "\n",
        "1.  Erstellen Sie eine Funktion `init(angle, v0, locationX)` zum Erzeugen eines Initialzustandes. Dabei soll der Abschusswinkel `angle` in Grad, die Initalgeschwindigkeit `v0` und die Abschussposition `locationX` (nur X-Koordinate, die Y-Koordinate ist immer 0, da das Projektil am Boden abgeschossen wird) übergeben werden. Definieren sie ebenfalls die physikalischen Konstanten!"
      ]
    },
    {
      "cell_type": "code",
      "execution_count": null,
      "metadata": {
        "id": "t6OV5nTClb_4"
      },
      "outputs": [],
      "source": [
        "# plot preferences\n",
        "ymin <- -100\n",
        "\n",
        "# model preferences\n",
        "time <- 100    # time [s]\n",
        "tstep <- 10    # steps / sec [1/s]\n",
        "times <- time*tstep\n",
        "xmax <- 21000\n",
        "\n",
        "# physical constants\n",
        "g.y     <- -9.81    #m/s^2\n",
        "sd.v    <- 10       #accuracy of liftoff speed [m/s]\n",
        "sd.a    <- 1        #accuracy of elevation angle in [deg]\n",
        "turb.x  <- 10       #acceleration by turbulence [m(s^2)]]\n",
        "turb.y  <- 10       #acceleration by turbulence [m(s^2)]]\n",
        "cw      <- 0.0001   #deceleration factor due to air friction [/m]\n",
        "sb.o    <- 10000    # observation accuracy [m]\n",
        "\n",
        "deg2rad <- function(x) x / 180 * pi\n",
        "\n",
        "init <- function(angle = 45, v0 = 500, locationX = 0) {\n",
        "\n",
        "    v       <- v0 + rnorm(1, mean=0, sd = sd.v)\n",
        "\n",
        "    alpha   <- deg2rad(angle + rnorm(1, mean=0, sd = sd.a))\n",
        "    vx      <- v * cos(alpha)\n",
        "    vy      <- v * sin(alpha)\n",
        "\n",
        "    c(locationX, 0, vx, vy)\n",
        "\n",
        "}"
      ]
    },
    {
      "cell_type": "markdown",
      "metadata": {
        "id": "ulavlLRVlb_4"
      },
      "source": [
        "2. Erstellen Sie eine Funktion `trans(x)`, die für einen Zustand `x` einen Nachfolge-Zustand berechnet. Im Skript (Kapitel 4.1) sind die Gleichungen für die Berechnung des Nachfolgezustands angegeben."
      ]
    },
    {
      "cell_type": "code",
      "execution_count": null,
      "metadata": {
        "id": "e93n5j-Ulb_4"
      },
      "outputs": [],
      "source": [
        "trans <- function(R) {\n",
        "    x   <- R[1]\n",
        "    y   <- R[2]\n",
        "    vx  <- R[3]\n",
        "    vy  <- R[4]\n",
        "\n",
        "    delta.t  <- 1/times\n",
        "\n",
        "    eps.x   <- rnorm(1, mean=0, sd = turb.x)\n",
        "    eps.y   <- rnorm(1, mean=0, sd = turb.y)\n",
        "\n",
        "    ax  <-  -sign(vx * cw * vx^2 + eps.x )\n",
        "    ay  <-  g.y -sign(vx * cw * vx^2 + eps.y)\n",
        "\n",
        "    x   <- x + vx*(delta.t) + (1/2)*ax*delta.t^2\n",
        "    y   <- x + vy*(delta.t) + (1/2)*ay*delta.t^2\n",
        "\n",
        "    vx  <- vx + ax*delta.t\n",
        "    vy  <- vy + ax*delta.t\n",
        "\n",
        "    c(x, y, vx, vy)\n",
        "\n",
        "}"
      ]
    },
    {
      "cell_type": "markdown",
      "metadata": {
        "id": "zkzMUShHlb_5"
      },
      "source": [
        "3. Erstellen Sie eine Funktion `shoot(angle, v0, locationX)`, die die komplette Flugbahn des Projektils simuliert und zurückgibt (z.B. als Matrix, wobei die Zeilen die einzelnen Zeitpunkte und die Spalten die Komponenten des Zustands (x, y, vx, vy) repräsentieren."
      ]
    },
    {
      "cell_type": "code",
      "execution_count": null,
      "metadata": {
        "id": "7HJCrzMGlb_5"
      },
      "outputs": [],
      "source": [
        "shoot <- function(angle = 45, v0 = 500, locationX = 0) {\n",
        "\n",
        "    flight <- matrix(0, nrow=times+1, ncol=4)\n",
        "    initR   <- init(angle, v0, locationX)\n",
        "\n",
        "    flight[1,] <- initR\n",
        "\n",
        "    for(row in 2:nrow(flight)) {\n",
        "\n",
        "        flight[row,] = trans(flight[row-1,])\n",
        "\n",
        "    }\n",
        "\n",
        "    flight\n",
        "}"
      ]
    },
    {
      "cell_type": "code",
      "source": [
        "flight <- shoot(angle = 45, v0 = 500, locationX = 0)\n"
      ],
      "metadata": {
        "id": "OoyeOEnXxo0C"
      },
      "execution_count": null,
      "outputs": []
    },
    {
      "cell_type": "markdown",
      "metadata": {
        "id": "TEMDhVqllb_5"
      },
      "source": [
        "4. Implementieren Sie eine Funktion, die eine übergebene Flugbahn plottet. Das Bild kann beispielsweise so aussehen: ![grafik.png](attachment:grafik.png)"
      ]
    },
    {
      "cell_type": "code",
      "execution_count": null,
      "metadata": {
        "id": "Y4sY1xE3lb_5"
      },
      "outputs": [],
      "source": [
        "plotshot <- function(trajectory){\n",
        "    #TODO\n",
        "}"
      ]
    }
  ],
  "metadata": {
    "kernelspec": {
      "display_name": "R",
      "name": "ir"
    },
    "language_info": {
      "name": "R"
    },
    "colab": {
      "provenance": []
    }
  },
  "nbformat": 4,
  "nbformat_minor": 0
}
