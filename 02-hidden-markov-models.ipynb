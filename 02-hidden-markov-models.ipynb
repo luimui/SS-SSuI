{
  "cells": [
    {
      "cell_type": "markdown",
      "metadata": {
        "id": "view-in-github",
        "colab_type": "text"
      },
      "source": [
        "<a href=\"https://colab.research.google.com/github/luimui/SS-SSuI/blob/master/02-hidden-markov-models.ipynb\" target=\"_parent\"><img src=\"https://colab.research.google.com/assets/colab-badge.svg\" alt=\"Open In Colab\"/></a>"
      ]
    },
    {
      "cell_type": "markdown",
      "metadata": {
        "id": "cA1_jWh_nxMo"
      },
      "source": [
        "# Hidden Markov Models - Implementierung\n",
        "Für eine Smartwatch soll ein System entwickelt werden, das automatisch erkennt, ob der Träger gerade schläft. Die Smartwatch enthält einen Beschleunigungssensor, der entweder den Wert \"wenig Bewegung\" oder den Wert \"viel Bewegung\" zurückliefert.    \n",
        "\n",
        "Zu Anfang ist der Träger mit einer Wahrscheinlichkeit von 50 % wach.   \n",
        "\n",
        "Wenn der Träger wach ist, ist die Wahrscheinlichkeit, dass er im nächsten Schritt schläft, 20 %.\n",
        "Wenn der Träger schläft, ist die Wahrscheinlichkeit, dass er im nächsten Zeitschritt wach ist, 30 %.   \n",
        "\n",
        "Wenn der Träger wach ist, ist die Wahrscheinlichkeit für \"viel Bewegung\" 60 % und die Wahrscheinlichkeit für \"wenig Bewegung\" 40 %. Wenn der Träger schläft, ist die Wahrscheinlichkeit für \"viel Bewegung\" 5 % und die Wahrscheinlichkeit für \"wenig Bewegung\" 95 %."
      ]
    },
    {
      "cell_type": "markdown",
      "metadata": {
        "id": "E2slUKonnxMq"
      },
      "source": [
        "## Aufgabe 1\n",
        "Implementieren Sie zunächst für das oben beschriebene HMM die Modelle für Transition und Observation, wie den Initalzustand des Systems!"
      ]
    },
    {
      "cell_type": "code",
      "execution_count": 1,
      "metadata": {
        "id": "-gsg_4lWnxMq"
      },
      "outputs": [],
      "source": [
        "#transition modell\n",
        "T = matrix(c(0.8, 0.2, 0.3, 0.7), nrow=2, ncol=2)\n",
        "\n",
        "#observation model\n",
        "O = matrix(c(0.6, 0.4, 0.05, 0.95), nrow=2, ncol=2)\n",
        "\n",
        "\n",
        "#prior\n",
        "s0 = c(0.5, 0.5)"
      ]
    },
    {
      "cell_type": "code",
      "source": [
        "O"
      ],
      "metadata": {
        "id": "ng0kj5ZT0qo8",
        "outputId": "99f2be82-438e-42cb-acbc-36cc9370adf4",
        "colab": {
          "base_uri": "https://localhost:8080/",
          "height": 132
        }
      },
      "execution_count": 5,
      "outputs": [
        {
          "output_type": "display_data",
          "data": {
            "text/html": [
              "<table class=\"dataframe\">\n",
              "<caption>A matrix: 2 × 2 of type dbl</caption>\n",
              "<tbody>\n",
              "\t<tr><td>0.6</td><td>0.05</td></tr>\n",
              "\t<tr><td>0.4</td><td>0.95</td></tr>\n",
              "</tbody>\n",
              "</table>\n"
            ],
            "text/markdown": "\nA matrix: 2 × 2 of type dbl\n\n| 0.6 | 0.05 |\n| 0.4 | 0.95 |\n\n",
            "text/latex": "A matrix: 2 × 2 of type dbl\n\\begin{tabular}{ll}\n\t 0.6 & 0.05\\\\\n\t 0.4 & 0.95\\\\\n\\end{tabular}\n",
            "text/plain": [
              "     [,1] [,2]\n",
              "[1,] 0.6  0.05\n",
              "[2,] 0.4  0.95"
            ]
          },
          "metadata": {}
        }
      ]
    },
    {
      "cell_type": "markdown",
      "metadata": {
        "id": "4fSwS8CdnxMr"
      },
      "source": [
        "## Aufgabe 2\n",
        "Implementieren Sie eine Funktion `predict(s,T)` die als Parameter eine Prior-Verteilung $p(x_t | y_{1:t})$ als Vektor $s$ und das Transitionsmodell als Matrix `A` bekommt und als Ausgabe die Verteilung $p(x_{t+1} | y_{1:t})$ liefert."
      ]
    },
    {
      "cell_type": "code",
      "execution_count": 40,
      "metadata": {
        "id": "qES41XCGnxMr",
        "outputId": "897d2524-0aac-43b8-bd81-528101db7ee5",
        "colab": {
          "base_uri": "https://localhost:8080/"
        }
      },
      "outputs": [
        {
          "output_type": "stream",
          "name": "stdout",
          "text": [
            "[1] 0.55 0.45\n"
          ]
        }
      ],
      "source": [
        "predict = function(s,T){\n",
        "    predict = (T %*% s)[,1] #Siehe Aufgabe 5 mit [,1]\n",
        "    predict\n",
        "}\n",
        "\n",
        "s = predict(s0,T)\n",
        "print(s)"
      ]
    },
    {
      "cell_type": "markdown",
      "metadata": {
        "id": "g03p8C4RnxMr"
      },
      "source": [
        "## Aufgabe 3\n",
        "Implementieren Sie eine Funktion `update(s,O,y)` die als Parameter eine Verteilung $p(x_{t+1} | y_{1:t})$ als Vektor $s$, ein Observationsmodell als Matrix `O` und eine Beobachtung $y_{t+1}$ als Integer `y` bekommt und als Ausgabe $p(x_{t+1} | y_{1:t+1})$ liefert.\n",
        "\n",
        "Sensor liefert \"w\" für wenig Bewegung, \"v\" für wenig Bewegung"
      ]
    },
    {
      "cell_type": "code",
      "execution_count": 41,
      "metadata": {
        "id": "KYW01eT5nxMr"
      },
      "outputs": [],
      "source": [
        "update = function(s,O,y){\n",
        "    o_row = ifelse(y == \"v\", 1, 2)\n",
        "    si = O[o_row,] * s\n",
        "    si / sum(si)\n",
        "}"
      ]
    },
    {
      "cell_type": "code",
      "source": [
        "si = update(s,O,\"w\")\n",
        "print(si)"
      ],
      "metadata": {
        "id": "qvpvEzET4Ukc",
        "outputId": "4db6cfb4-59ce-4a54-d29a-e763836bba7e",
        "colab": {
          "base_uri": "https://localhost:8080/"
        }
      },
      "execution_count": 42,
      "outputs": [
        {
          "output_type": "stream",
          "name": "stdout",
          "text": [
            "[1] 0.3397683 0.6602317\n"
          ]
        }
      ]
    },
    {
      "cell_type": "markdown",
      "metadata": {
        "id": "Bp3lPZgAnxMr"
      },
      "source": [
        "## Aufgabe 4\n",
        "Implementieren Sie eine Funktion `filter(s0,Y,T,O)` die als Parameter eine Prior-Verteilung $p(x_0)$ als Vektor `s0`, ein Transitions- und Beobachtungsmodell als Matrizen `T` und `O` und eine Sequenz von Beobachtungen $y_{1:T}$ als Vektor `yy` bekommt und für jedes $t = 1,...,T$ die Verteilung $p(x_t | y_{1:t})$ als Vektor berechnet und als Aufgabe somit eine $T \\times 2$-Matrix liefert."
      ]
    },
    {
      "cell_type": "code",
      "source": [
        "filter = function(s0,O,T,yy){\n",
        "\n",
        "    s = s0\n",
        "    ss = list(s)\n",
        "\n",
        "    for(y in yy){\n",
        "      si = predict(s,T)\n",
        "      s  = update(si,O,y)\n",
        "      ss = c(ss,list(s))\n",
        "    }\n",
        "\n",
        "    ss\n",
        "\n",
        "}\n",
        "\n"
      ],
      "metadata": {
        "id": "Mn1pXH2L6kBE"
      },
      "execution_count": 43,
      "outputs": []
    },
    {
      "cell_type": "code",
      "source": [
        "list_of_lists = (filter(s0,O,T,c(\"w\",\"w\",\"w\")))\n",
        "filtermatrix <- do.call(\"cbind\",list_of_lists)\n",
        "print(filtermatrix)"
      ],
      "metadata": {
        "id": "zUnShjpg7uWL",
        "outputId": "c8bbffb8-3bbe-4bb0-e306-ba2cd6e57a3d",
        "colab": {
          "base_uri": "https://localhost:8080/"
        }
      },
      "execution_count": 44,
      "outputs": [
        {
          "output_type": "stream",
          "name": "stdout",
          "text": [
            "     [,1]      [,2]      [,3]     [,4]\n",
            "[1,]  0.5 0.3397683 0.2717807 0.245482\n",
            "[2,]  0.5 0.6602317 0.7282193 0.754518\n"
          ]
        }
      ]
    },
    {
      "cell_type": "markdown",
      "metadata": {
        "id": "zoDukAEdnxMs"
      },
      "source": [
        "## Aufgabe 5\n",
        "Testen Sie nun ihre Implementierung mit der Funktion `testHMM`."
      ]
    },
    {
      "cell_type": "code",
      "execution_count": 45,
      "metadata": {
        "id": "9JEHbj3tnxMs",
        "outputId": "5cb47820-75a6-4df5-d120-bef2e0062ee3",
        "colab": {
          "base_uri": "https://localhost:8080/",
          "height": 114
        }
      },
      "outputs": [
        {
          "output_type": "display_data",
          "data": {
            "text/html": [
              "<ol>\n",
              "\t<li><style>\n",
              ".list-inline {list-style: none; margin:0; padding: 0}\n",
              ".list-inline>li {display: inline-block}\n",
              ".list-inline>li:not(:last-child)::after {content: \"\\00b7\"; padding: 0 .5ex}\n",
              "</style>\n",
              "<ol class=list-inline><li>0.5</li><li>0.5</li></ol>\n",
              "</li>\n",
              "\t<li><style>\n",
              ".list-inline {list-style: none; margin:0; padding: 0}\n",
              ".list-inline>li {display: inline-block}\n",
              ".list-inline>li:not(:last-child)::after {content: \"\\00b7\"; padding: 0 .5ex}\n",
              "</style>\n",
              "<ol class=list-inline><li>0.33976833976834</li><li>0.66023166023166</li></ol>\n",
              "</li>\n",
              "\t<li><style>\n",
              ".list-inline {list-style: none; margin:0; padding: 0}\n",
              ".list-inline>li {display: inline-block}\n",
              ".list-inline>li:not(:last-child)::after {content: \"\\00b7\"; padding: 0 .5ex}\n",
              "</style>\n",
              "<ol class=list-inline><li>0.271780699550568</li><li>0.728219300449432</li></ol>\n",
              "</li>\n",
              "\t<li><style>\n",
              ".list-inline {list-style: none; margin:0; padding: 0}\n",
              ".list-inline>li {display: inline-block}\n",
              ".list-inline>li:not(:last-child)::after {content: \"\\00b7\"; padding: 0 .5ex}\n",
              "</style>\n",
              "<ol class=list-inline><li>0.245482026855025</li><li>0.754517973144975</li></ol>\n",
              "</li>\n",
              "</ol>\n"
            ],
            "text/markdown": "1. 1. 0.5\n2. 0.5\n\n\n\n2. 1. 0.33976833976834\n2. 0.66023166023166\n\n\n\n3. 1. 0.271780699550568\n2. 0.728219300449432\n\n\n\n4. 1. 0.245482026855025\n2. 0.754517973144975\n\n\n\n\n\n",
            "text/latex": "\\begin{enumerate}\n\\item \\begin{enumerate*}\n\\item 0.5\n\\item 0.5\n\\end{enumerate*}\n\n\\item \\begin{enumerate*}\n\\item 0.33976833976834\n\\item 0.66023166023166\n\\end{enumerate*}\n\n\\item \\begin{enumerate*}\n\\item 0.271780699550568\n\\item 0.728219300449432\n\\end{enumerate*}\n\n\\item \\begin{enumerate*}\n\\item 0.245482026855025\n\\item 0.754517973144975\n\\end{enumerate*}\n\n\\end{enumerate}\n",
            "text/plain": [
              "[[1]]\n",
              "[1] 0.5 0.5\n",
              "\n",
              "[[2]]\n",
              "[1] 0.3397683 0.6602317\n",
              "\n",
              "[[3]]\n",
              "[1] 0.2717807 0.7282193\n",
              "\n",
              "[[4]]\n",
              "[1] 0.245482 0.754518\n"
            ]
          },
          "metadata": {}
        }
      ],
      "source": [
        "testHMM = function(){\n",
        "    #observation sequence\n",
        "    yy = c(\"W\",\"W\",\"V\")\n",
        "\n",
        "    ss = filter(s0,O,T,yy)\n",
        "    ss\n",
        "}\n",
        "\n",
        "ss = testHMM()\n",
        "ss"
      ]
    },
    {
      "cell_type": "code",
      "execution_count": null,
      "metadata": {
        "id": "lAlLC_0anxMs"
      },
      "outputs": [],
      "source": []
    }
  ],
  "metadata": {
    "kernelspec": {
      "display_name": "R",
      "name": "ir"
    },
    "language_info": {
      "name": "R"
    },
    "colab": {
      "provenance": [],
      "include_colab_link": true
    }
  },
  "nbformat": 4,
  "nbformat_minor": 0
}