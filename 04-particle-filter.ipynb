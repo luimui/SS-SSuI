{
 "cells": [
  {
   "cell_type": "markdown",
   "id": "90da686d-2127-4097-a6c4-450ff9ca937d",
   "metadata": {},
   "source": [
    "# Partikelfilter\n",
    "\n",
    "Diese Übung baut auf der Übung 1 auf und nutzt daher die Implementierungen des Balistik-Beispiels aus der Vorlesung."
   ]
  },
  {
   "cell_type": "markdown",
   "id": "80a7f8af-67e1-4292-b906-5767c51b4008",
   "metadata": {},
   "source": [
    "## 1. Vorbereiten unserer Simulationsumgebung\n",
    "Zunächst definieren wir wieder die Konstanten unseres Systems:"
   ]
  },
  {
   "cell_type": "code",
   "execution_count": null,
   "id": "aaeb96ce-63cd-4c67-9169-010799f467aa",
   "metadata": {},
   "outputs": [],
   "source": [
    "# model preferences\n",
    "time <- 100    # time [s]\n",
    "tstep <- 10    # steps / sec [1/s]\n",
    "times <- time*tstep\n",
    "\n",
    "# physical constants\n",
    "g    <- -9.81   # gravitational accelaration [m/(s^2)]\n",
    "sd.v <- 10      # accuracy of liftoff speed [m/s]\n",
    "sd.a <- 1       # accuracy of elevation angle in [deg]\n",
    "turb.x <- 10       # acceleration by turbulences [m/(s^2)]\n",
    "turb.y <- 10       # acceleration by turbulences [m/(s^2)]\n",
    "cw   <- 0.0001 # aerobraking factor\n",
    "sd.o <- 10000     # observation accuracy [m]\n",
    "\n",
    "# game preferences\n",
    "xmax <- 21000\n",
    "epsilon <- 300\n",
    "\n",
    "# plot preferences\n",
    "ymin <- -100\n",
    "\n",
    "deg2rad <- function(x) x / 180 * pi"
   ]
  },
  {
   "cell_type": "markdown",
   "id": "f9aa64db-ebe2-4578-9c28-544db42ed85e",
   "metadata": {},
   "source": [
    "Hier noch die Funktion die uns den Start-/Initialzustand unseres Systems berechnet.    \n",
    "Zur Erinnerung: Unsere Zustände entsprechen einem Vektor der Länge 4 mit x-, y-Koordinate und der Geschwindigkeit in x- und y-Richtung."
   ]
  },
  {
   "cell_type": "code",
   "execution_count": null,
   "id": "dd49b62b-0b90-483b-9c5e-c640f5da6219",
   "metadata": {},
   "outputs": [],
   "source": [
    "init <- function(ang = 45, v0 = 500, location = 0) {\n",
    "    v <- v0 + rnorm(1, sd=sd.v)\n",
    "    a <- deg2rad(rnorm(1, mean=ang, sd=sd.a))\n",
    "    c(location, 0, v * cos(a), v * sin(a))\n",
    "}"
   ]
  },
  {
   "cell_type": "markdown",
   "id": "7f2fcd64-6476-4437-905b-421ebd00ffab",
   "metadata": {},
   "source": [
    "Mit der Transitionsfunktion berechnen wir dann ausgehend von einem Zustand in Zeitschritt t einen neuen Zustand in Zeitschritt t+1. Mithilfe dieser Funktion können wir also den Folgezustand unseres Projektils berechnen!"
   ]
  },
  {
   "cell_type": "code",
   "execution_count": null,
   "id": "d699f8dc-f11f-4cc1-bfa7-fdf932de6bb3",
   "metadata": {},
   "outputs": [],
   "source": [
    "trans <- function(s) {\n",
    "    dt <- 1/tstep\n",
    "    eps.x <- rnorm(1, mean=0, sd=turb.x)\n",
    "    eps.y <- rnorm(1, mean=0, sd=turb.y)\n",
    "    acc.x <- -sign(s[3]) * cw * s[3]^2 + eps.x\n",
    "    acc.y <- g - sign(s[4]) * cw * s[4]^2 + eps.y\n",
    "    s.x <- s[1] + s[3] * dt + 0.5 * acc.x * dt * dt\n",
    "    s.y <- s[2] + s[4] * dt + 0.5 * acc.y * dt * dt\n",
    "    v.x <- s[3] + acc.x * dt\n",
    "    v.y <- s[4] + acc.y * dt\n",
    "    c(s.x, s.y, v.x, v.y)\n",
    "}"
   ]
  },
  {
   "cell_type": "markdown",
   "id": "8a6f0eac-0e48-493e-b85c-5d7a057f84eb",
   "metadata": {},
   "source": [
    "Die Shoot-Funktion simuliert dann mithilfe der Transitionsfunktion die komplette Flugbahn unseres Projektils!"
   ]
  },
  {
   "cell_type": "code",
   "execution_count": null,
   "id": "a49e37ef-0386-4111-8cd1-e2f05be7cfb3",
   "metadata": {},
   "outputs": [],
   "source": [
    "shoot <- function(angle, velocity, location) {\n",
    "    target <- array(0, dim=c(times,4))\n",
    "    target[1,] <- init(angle, velocity, location)\n",
    "    for (t in 2:times) {\n",
    "        target[t,] <- trans(target[t-1,])\n",
    "        if (target[t,2] < 0) {\n",
    "            target <- target[1:(t-1),]\n",
    "            break\n",
    "        }\n",
    "    }\n",
    "    \n",
    "    target\n",
    "}"
   ]
  },
  {
   "cell_type": "markdown",
   "id": "10200afe-5a62-4546-b65c-542b50af86e6",
   "metadata": {},
   "source": [
    "Mithilfe der Plotshot-Funktion können wir die Flugbahn des Projektils dann visualisieren!"
   ]
  },
  {
   "cell_type": "code",
   "execution_count": null,
   "id": "f6d0c839-fea9-4a22-9508-188a5b886753",
   "metadata": {},
   "outputs": [],
   "source": [
    "plotshot <- function(target=array(0, dim=c(1,4)), playerLocations=NULL, title=\"Target\", new.plot=TRUE) {\n",
    "    if (new.plot) {\n",
    "        plot(NA, ylim=c(ymin,12000), xlim=c(0, xmax), ylab=\"Height [km]\", xlab=\"Distance [km]\", axes=FALSE)\n",
    "    }\n",
    "    lines(target[,1], target[,2], col=\"red\", lwd=2)\n",
    "    axis(2, labels=c(\"0\",\"2.5\",\"5\",\"7.5\",\"10\"), at=c(0,2500,5000,7500,10000))\n",
    "    axis(1, labels=c(\"0\",\"5\",\"10\",\"15\",\"20\"), at=c(0,5000,10000,15000,20000))\n",
    "    \n",
    "    # plot the y=0 line which represents the \"ground\"\n",
    "    abline(h=0, col=\"lightgray\", lwd=2)\n",
    "    \n",
    "    # tanks\n",
    "    for (player in seq_along(playerLocations)) {\n",
    "        points(playerLocations[player], 0, pch=12, cex=1.4, col=\"brown\")\n",
    "        text(playerLocations[player] + 200, 100, paste0(\"Player \", player), adj=c(0,0))\n",
    "    }\n",
    "\n",
    "    invisible(NULL)\n",
    "}"
   ]
  },
  {
   "cell_type": "markdown",
   "id": "dc0462d4-e22e-4c95-aff4-38d64532bb3c",
   "metadata": {},
   "source": [
    "## 2. Erweitern unserer Umgebung\n",
    "Da wir in dieser Übung nun nicht nur die Flugbahn des Projektils simulieren wollen, müssen wir unser Szenario erweitern!   \n",
    "Es wir angenommen, dass wir den Zustand des Projektils nur näherungsweise berechnen können, indem wir dazu Signale nutzen die von einer (fiktiven) Radarstation am Boden empfangen werden. Daher definieren wir nun erstmal ein paar Größen bzgl. des Radars!"
   ]
  },
  {
   "cell_type": "code",
   "execution_count": null,
   "id": "1c4d6030-d8bd-4f28-a878-b8652ec8d213",
   "metadata": {},
   "outputs": [],
   "source": [
    "# x- und y-Koordinaten des Radars\n",
    "radar.x <- 5000\n",
    "radar.y <- 0\n",
    "radar <- c(radar.x, radar.y)\n",
    "# Messungenauigkeiten \n",
    "radar.sd.rad <- 0.1\n",
    "radar.sd.ang <- 5"
   ]
  },
  {
   "cell_type": "markdown",
   "id": "e98983b2-fb3f-4f05-ac35-95629ca5c52f",
   "metadata": {},
   "source": [
    "Im Skript wird ein Observationsmodell, basierend auf Winkel- und Distanzmessungen einer fiktiven Radarstation, beschrieben. Nachfolgend finden Sie die Implementierung dieser Funktion `robserve(s)`, die gegeben die Position des Projektils zu einem Zeitpunkt eine mögliche Beobachtung $y$ sampled. Mit dieser Funktion simulieren/generieren wir also die empfangenen Signale unserer (fiktiven) Radarstation! "
   ]
  },
  {
   "cell_type": "code",
   "execution_count": null,
   "id": "6afba660-5f40-4b6c-a75f-6baa04a6e7d1",
   "metadata": {},
   "outputs": [],
   "source": [
    "robserve <- function(s) {\n",
    "    s.dx <- s[1] - radar.x\n",
    "    s.dy <- s[2] - radar.y\n",
    "    rad <- sqrt(s.dx^2 + s.dy^2)\n",
    "    ang <- atan2(s.dy, s.dx) / pi * 180\n",
    "    obsrad <- rnorm(1, mean=rad, sd=rad * radar.sd.rad)\n",
    "    obsang <- rnorm(1, mean=ang, sd=radar.sd.ang) / 180 * pi\n",
    "    #we output not the angle and distance, but x-y coordinates\n",
    "    c(obsrad * cos(obsang) + radar.x,\n",
    "      obsrad * sin(obsang) + radar.y)\n",
    "}"
   ]
  },
  {
   "cell_type": "markdown",
   "id": "16a43477-3f43-4a5c-a670-a372bdc047ad",
   "metadata": {},
   "source": [
    "## 3. Vorbereitungen für den Partikelfilter\n",
    "Wie wir uns aus den vergangenen Übungen erinnern, bestehen unsere Modelle aus verschiedenen Komponenten:\n",
    "* Transitions-/Systemmodell\n",
    "* Beobachtungsmodell\n",
    "* Initialzustand\n",
    "\n",
    "Den Initialzustand und das Transitionsmodell haben wir schon gegegben/definiert. Damit fehlt noch das  Beobachtungsmodell $p(y | s)$:   \n",
    "Dieses gibt die Wahrscheinlichkeitsdichte an, mit der eine Beobachtung von einem Zustand erzeugt wird. Nachfolgend finden Sie die Implementierung der Funktion `observe(s, obs)`, die gegeben einen Zustand $s$ und einer Beobachtung obs die *Wahrscheinlichkeitsdichte* dieser Beobachtung im gegebenen Zustand berechnet (im Gegensatz zur Funktion `robserve(s)`, die eine Beobachtung *sampled*). "
   ]
  },
  {
   "cell_type": "code",
   "execution_count": null,
   "id": "01c6922e-c53c-4d56-b7de-e299c83408b6",
   "metadata": {},
   "outputs": [],
   "source": [
    "observe <- function(s, obs) {\n",
    "    #strategy: compute the true angle and distance from s\n",
    "    #and the observed angle and distance from obs\n",
    "    #then compute the density of a normal with mean=truth\n",
    "  \n",
    "    o.dx <- obs[1] - radar.x\n",
    "    o.dy <- obs[2] - radar.y\n",
    "    obsrad <- sqrt(o.dx^2 + o.dy^2)\n",
    "    obsang <- atan2(o.dy, o.dx) / pi * 180\n",
    "    if (obsang < 0)\n",
    "        # ensure the range is [0, 360), not (-180, 180]\n",
    "        obsang <- 360 + obsang\n",
    "    \n",
    "    s.dx <- s[1] - radar.x\n",
    "    s.dy <- s[2] - radar.y\n",
    "    rad <- sqrt(s.dx^2 + s.dy^2)\n",
    "    ang <- atan2(s.dy, s.dx) / pi * 180\n",
    "    if (ang < 0)\n",
    "        # ensure the range is [0, 360), not (-180, 180]\n",
    "        ang <- 360 + ang\n",
    "    \n",
    "    # angles are now in range [0, 360)\n",
    "    # that means, e.g., 1° and 359° (= -1°) are considered far apart\n",
    "    # if both angles are < 90 / > 270 (i.e. at the right side of the unit circle),\n",
    "    # then make large angles negative (e.g. 359 → -1)\n",
    "    if ((obsang < 90 || obsang > 270) && (ang < 90 || ang > 270)) {\n",
    "        mn <- function(a) if (a > 270) a - 360 else a\n",
    "        obsang <- mn(obsang)\n",
    "        ang <- mn(ang)\n",
    "    }\n",
    "    \n",
    "    dnorm(obsrad, mean=rad, sd=rad * radar.sd.rad) * dnorm(obsang, mean=ang, sd=radar.sd.ang)\n",
    "}"
   ]
  },
  {
   "cell_type": "markdown",
   "id": "dd26ad46-90a1-4a50-918a-103db7c93f28",
   "metadata": {},
   "source": [
    "In einem Partikelfilter wird die a-posteriori Wahrscheinlichkeitsdichte durch die Verteilung von Samples/Partikeln im Zustandsraum repräsentiert. Nachfolgend finden Sie dazu eine Funktion `makesamples(n, angle, velocity, location)`, welche $n$ zufällige Trajektorien sampled."
   ]
  },
  {
   "cell_type": "code",
   "execution_count": null,
   "id": "b351abea-4798-4796-8c5a-75089a91e3dd",
   "metadata": {},
   "outputs": [],
   "source": [
    "makesamples <- function(n=50, angle, velocity, location) {\n",
    "    replicate(n, shoot(angle, velocity, location))\n",
    "}"
   ]
  },
  {
   "cell_type": "markdown",
   "id": "7ddb40d9-c164-434d-bcce-df5cb8bb73e7",
   "metadata": {},
   "source": [
    "Zu guter Letzt werden hier nochmal zwei Funktionen gegeben, mit denen man unser erweitertes Szenario mit der zusätzlichen Radarstation einmal visulasieren kann!"
   ]
  },
  {
   "cell_type": "code",
   "execution_count": null,
   "id": "1c89b220-52b8-460c-a8b4-c1b2b0def40b",
   "metadata": {},
   "outputs": [],
   "source": [
    "plotshot2 <- function(target=array(0, dim=c(1, 4)), observation=NULL, samples=NULL, ostep=10, title=\"Target\") {\n",
    "    plot(NA, ylim=c(ymin,12000), xlim=c(0, xmax), ylab=\"Height [km]\", xlab=\"Distance [km]\", axes=FALSE)\n",
    "    \n",
    "    # plotting sample trajectories\n",
    "    if (!is.null(samples)) {\n",
    "        n <- length(samples)\n",
    "        for(i in 1:n)\n",
    "            lines(samples[[i]][,1],samples[[i]][,2],col=\"gray\")\n",
    "    }\n",
    "    \n",
    "    # plotting (simulated) observations\n",
    "    if (!is.null(observation)) { #if not empty run\n",
    "        osteps <- seq(from=ostep, to=nrow(target), by=ostep)\n",
    "        lines(observation[1,osteps], observation[2,osteps], col=\"green\")\n",
    "    }\n",
    "  \n",
    "    #position of radar station\n",
    "    points(radar.x,radar.y,pch=12, cex=1.4, col=\"brown\")\n",
    "\n",
    "    # plotting real trajectory\n",
    "    plotshot(target, NULL, title, new.plot=FALSE)\n",
    "    \n",
    "    invisible(NULL)\n",
    "}\n",
    "\n",
    "main2 <- function(){\n",
    "  #simply plot multiple samples\n",
    "  ss <- makesamples(50,60,800,0)\n",
    "  #observe a single trajectory\n",
    "  observation <- apply(ss[[1]],1,function(sr) robserve(sr))\n",
    "  #plot this\n",
    "  plotshot2(ss[[1]],samples=ss,observation=observation)\n",
    "}"
   ]
  },
  {
   "cell_type": "code",
   "execution_count": null,
   "id": "1ab8ab7f-1d96-4155-9c7b-ace2a7c8032f",
   "metadata": {},
   "outputs": [],
   "source": [
    "main2()"
   ]
  },
  {
   "cell_type": "markdown",
   "id": "79ce6f08-d8e6-4e47-b951-f0548748946b",
   "metadata": {},
   "source": [
    "## 4. Implementierung des Partikelfilters\n",
    "Nun haben wir alle notwendigen Vorbereitungen getroffen, um unseren Partikelfilter zu implementieren. Bevor wir jedoch damit beginnen, hier eine kurze Visualisierung des Partikelfilters: [https://www.youtube.com/watch?v=5nswUcByXLo](https://www.youtube.com/watch?v=5nswUcByXLo)   \n",
    "Die generelle Idee die hinter diesem Algorithmus steckt, ist, dass wir zunächst beliebig viele Partikel aus einer Gleichverteilung sampeln. Nachdem wir eine Beobachtung empfangen, können wir nun die Partikel löschen, welche gegeben unserer Beobachtung eine geringe Wahrscheinlichkeitsdichte aufweisen.   \n",
    "Fragen an Euch:    \n",
    "1. Was repräsentieren die Partikel in unserem Balistikbeispiel?   \n",
    "2. Mithilfe welcher Funktion können wir die Wahrscheinlichkeitsdichte unserer Partikel berechnen?   \n",
    "\n"
   ]
  },
  {
   "cell_type": "markdown",
   "id": "43b4208e-a73c-4a28-b3af-601a1caabaff",
   "metadata": {},
   "source": [
    "Da wir nun eine generelle Idee davon entwickeln konnten, wie der Partikelfilter arbeitet können wir uns an die Implementieren wagen. Damit ihr nicht in der Komplexität des Algorithmus erstickt, gebe ich euch zunächst noch die Implementierung der Resampling-Funktion vor, welche uns neue Partikel, gegeben alten Partikeln und ihrer Wahrscheinlichkeitsdichte, berechnet."
   ]
  },
  {
   "cell_type": "code",
   "execution_count": null,
   "id": "7f05e7f8-00e3-43fb-9583-23612856be09",
   "metadata": {},
   "outputs": [],
   "source": [
    "resample <- function(samples, weights){\n",
    "  c_1 <- weights[1]\n",
    "  i <- 1\n",
    "  N <- length(weights)\n",
    "  c <- 1:N\n",
    "  u <- 1:N\n",
    "  c[1] <- c_1\n",
    "  x_ <- samples\n",
    "  w_ <- weights\n",
    "  u_1 <- runif(1, 0, 1/N)\n",
    "  \n",
    "  for (j in 1:N) {\n",
    "    u[j] <- u_1 + (1/N * (j - 1))\n",
    "    while (u[j] > c[i]){\n",
    "      i <- i + 1\n",
    "      c[i] <- c[i-1] + weights[i]\n",
    "    }\n",
    "    x_[,j] <- samples[,i]\n",
    "    w_[j] <- 1/N\n",
    "  }\n",
    "  #browser()\n",
    "  return(x_)\n",
    "}\n"
   ]
  },
  {
   "cell_type": "markdown",
   "id": "68ac31aa-844f-4dd9-8c71-44a7cd01356b",
   "metadata": {},
   "source": [
    "1. Schreiben Sie nun eine Funktion `filter(n, observation, ostep, ...)` welche Bayessches Filtern mittels eines Partikelfilters implementiert (Algorithmus siehe Skript S. 101). Der Parameter $n$ stellt die Anzahl der Partikel dar. Die Beobachtungsdaten (generiert von der Radarstation) werden mit dem Parameter observations übergeben, `ostep` bestimmt die Frequenz der Beobachtungen. Weitere Parameter bestimmen die angenommene initialen Winkel, Geschwindigkeit und Position. In der Funktion sollen zunächst die Partikel initialisiert werden. Nutzen Sie die Funktion `observe(s, obs)` um Gewichte für die initialen Partikel zu berechnen. Iterieren Sie anschließend schrittweise über alle Zeitpunkte, indem Sie für jeden Partikel mittels `trans(s)` zunächst die Prediction und, alle `ostep` Zeitschritte, mittels `observe(s, obs)` den Updateschritt durchführen, bei dem die Partikel neu gewichtet werden. Berechnen sie dabei auch auf Basis der neuen Gewichte die neuen Partikel, indem sie die Resampling-Methode verwenden!"
   ]
  },
  {
   "cell_type": "code",
   "execution_count": null,
   "id": "783bb739-2b83-45be-89f3-a35d10a3dfa7",
   "metadata": {},
   "outputs": [],
   "source": [
    "filter <- function(n, angle, velocity, location, observation, ostep, do.resample = TRUE) {\n",
    "    times = nrow(observation) # number of observations\n",
    "    state <- array(0, dim=c(times, 4, n)) # 3D array for saving the computet states (=particles) for every timestep. dim=times x 4(one state = 4 dim vector) x number of particles\n",
    "    weights <- array(0, dim=c(times, n)) # 2D array to save the weight of each particle in each time step\n",
    "    likelihoods <- array(0, dim=c(times, n)) # 2D array for likelihood (of each particle?) = prob that particle belongs to observation or wise versa?\n",
    "    loglik <- 0\n",
    "    \n",
    "    # todo: create initial states and weights for n particles\n",
    "    \n",
    "    \n",
    "    # forward run\n",
    "    for (t in 2:times) {\n",
    "        # todo: compute the predict step\n",
    "        \n",
    "        \n",
    "        if(t %% ostep == 0) {\n",
    "            # todo: compute the update step\n",
    "            \n",
    "            if (sum(weights[t,]) == 0)\n",
    "                break()\n",
    "            likelihoods[t,] <- weights[t,]\n",
    "            loglik <- loglik + log(sum(weights[t,]))\n",
    "            # todo: normalize weights\n",
    "            \n",
    "            \n",
    "            # do the resampling\n",
    "            if (do.resample) {\n",
    "                resample.result <- resample(state[t,,], weights[t,])\n",
    "                state[t,,] <- resample.result\n",
    "                weights[t,] <- 1/n # now all weights are identical\n",
    "            }\n",
    "        } else {\n",
    "            # no observations, weights do not change\n",
    "            weights[t,] <- weights[t-1,]                      \n",
    "            # compute the loglikelihood \n",
    "            loglik <- loglik + log(sum(weights[t,]))\n",
    "        }\n",
    "    }\n",
    "    invisible(list(forward=state,weights=weights, likelihoods=likelihoods, loglik=loglik))\n",
    "}"
   ]
  },
  {
   "cell_type": "markdown",
   "id": "5d727b70-c87e-4481-9c64-e53dae63313f",
   "metadata": {},
   "source": [
    "2. Testen Sie ihren Partikelfilter, indem sie eine Funktion `runfilter(n, ...)` schreiben. In der Funktion soll zunächst die Trajektorie eines Projektils simuliert und mittels `robserve` die dazugehörigen Observations gesampled werden."
   ]
  },
  {
   "cell_type": "code",
   "execution_count": null,
   "id": "28bf179b-159a-42ed-a0ef-828ac3364944",
   "metadata": {},
   "outputs": [],
   "source": [
    "plotfilter <- function(state, weights, observation, target, ostep=10, title=\"Forward\") {\n",
    "    n <- dim(state)[3]\n",
    "    times <- dim(state)[1]\n",
    "\n",
    "    xosteps <- seq(from=50, to=times, by=50)\n",
    "    osteps <- seq(from=ostep, to=times, by=ostep)\n",
    "\n",
    "    plot(state[1,,1], state[2,,1], type=\"l\",\n",
    "         ylim=c(ymin, 12000), xlim=c(0, xmax), ylab=\"Height [km]\", axes=FALSE)\n",
    "\n",
    "    axis(2, labels=c(\"0\",\"2.5\",\"5\",\"7.5\",\"10\"), at=c(0,2500,5000,7500,10000))\n",
    "    abline(h=0,col=\"lightgray\",lwd=2)\n",
    "\n",
    "    mtext(title, 2, line=3.5)\n",
    "\n",
    "    # plot the particles' trajectories\n",
    "    for(i in 1:n)\n",
    "        lines(state[,1,i],state[,2,i],col=\"gray\")\n",
    "\n",
    "    lines(observation[osteps,1], observation[osteps,2], col=\"green\", type=\"b\")\n",
    "    \n",
    "    mn <- cbind(apply(state[,1,] * weights, 1, sum), apply(state[,2,] * weights, 1, sum))\n",
    "    #for(t in xosteps) {\n",
    "    #    cv <- cov(cbind(state[t,1,],state[t,2,]))\n",
    "    #    lines(ellipse(cv, centre=mn[t,]), col=\"blue\")\n",
    "    #}\n",
    "    #symbols(e.m.x[osteps],e.m.y[osteps],rectangles=cbind(2*e.sd.x[osteps],    2*e.sd.y[osteps]),fg=\"blue\",inches=FALSE,add=TRUE)\n",
    "    lines(mn,col=\"blue\",lwd=2)\n",
    "    \n",
    "    lines(target[,1],target[,2],col=\"red\",lwd=2,lty=\"dotted\")\n",
    "    \n",
    "    points(radar.x, radar.y, pch=12, cex=1.4, col=\"brown\")\n",
    "    text(radar.x+200, radar.y+100, \"Radar\", adj=c(0,0))\n",
    "    \n",
    "    legend(\"topleft\",bty=\"n\",\n",
    "        lty=c(1,3,1,1,1),\n",
    "        lwd=c(2,2,2,2,1),\n",
    "        col=c(\"gray\", \"red\", \"green\", \"blue\", \"blue\"),\n",
    "#        pch=c(-1,-1,-1,-1,1),\n",
    "        legend=c(\"Simulation\", \"Target\", \"Observations\", \"Posterior Mean\", \"95%\"))\n",
    "}"
   ]
  },
  {
   "cell_type": "code",
   "execution_count": null,
   "id": "c7a36abb-6194-4091-ae4f-93a1207a8059",
   "metadata": {},
   "outputs": [],
   "source": [
    "runfilter <- function(n = 250, angle = 47, velocity = 600, location = 0, ...) {\n",
    "    # todo: simulate the shot\n",
    "    \n",
    "\n",
    "    # todo: calculate/simulate observations and specifiy observation step size\n",
    "    observation <- array(0, dim=c(dim(target)[1], 2))\n",
    "    \n",
    "    \n",
    "    # todo: run particle filter based on oberservations\n",
    "    \n",
    "    plotfilter(result$forward, result$weights, observation, target, ostep, title=\"Filtered\")\n",
    "    \n",
    "    invisible(result)\n",
    "}\n",
    "\n",
    "n <- 10\n",
    "angle <- 47\n",
    "velocity <- 600\n",
    "location <- 0\n",
    "\n",
    "runfilter()"
   ]
  },
  {
   "cell_type": "code",
   "execution_count": null,
   "id": "a0f6a49c-ed21-4125-adda-3a68016fd679",
   "metadata": {},
   "outputs": [],
   "source": []
  }
 ],
 "metadata": {
  "kernelspec": {
   "display_name": "R",
   "language": "R",
   "name": "ir"
  },
  "language_info": {
   "codemirror_mode": "r",
   "file_extension": ".r",
   "mimetype": "text/x-r-source",
   "name": "R",
   "pygments_lexer": "r",
   "version": "3.6.1"
  }
 },
 "nbformat": 4,
 "nbformat_minor": 5
}
